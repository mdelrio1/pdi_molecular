{
 "cells": [
  {
   "cell_type": "markdown",
   "metadata": {},
   "source": [
    "# Analisis de archivos ab1 y obtener secuencias consenso.\n",
    "# Cladograma con secuencias obtenidas mediante blastn\n",
    "información  \n",
    "https://biopython.org/wiki/SeqIO  \n",
    "http://biopython.org/wiki/ABI_traces"
   ]
  },
  {
   "cell_type": "code",
   "execution_count": null,
   "metadata": {},
   "outputs": [],
   "source": [
    "from Bio import SeqIO, SeqRecord, Seq, AlignIO, pairwise2, SearchIO\n",
    "from Bio.Seq import Seq\n",
    "from Bio.SeqRecord import SeqRecord\n",
    "from Bio.Alphabet import IUPAC, generic_dna\n",
    "from collections import defaultdict\n",
    "import matplotlib.pyplot as plt\n",
    "from io import StringIO\n",
    "from Bio.Align import AlignInfo\n",
    "from Bio.SubsMat.MatrixInfo import blosum62\n",
    "from Bio.Blast import NCBIWWW, NCBIXML"
   ]
  },
  {
   "cell_type": "code",
   "execution_count": null,
   "metadata": {},
   "outputs": [],
   "source": []
  },
  {
   "cell_type": "code",
   "execution_count": null,
   "metadata": {},
   "outputs": [],
   "source": [
    "def consenso2(sec1, sec2):\n",
    "    if len(sec1)!=len(sec2):\n",
    "        print(\"las secuencias no son de igual tamaño\")\n",
    "        return\n",
    "    n=0\n",
    "    secuencia= \"\"\n",
    "    nucleotido=\"\"\n",
    "    for row in range(len(sec1)):\n",
    "        n+=1\n",
    "        if sec1[row]== sec2[row]:\n",
    "            secuencia+= sec1[row]\n",
    "            #print (sec1[row], end = \"\")\n",
    "        else:\n",
    "            if sec1[row]==\"-\" and sec2[row]!=\"-\":\n",
    "                nucleotido=sec2[row].lower()\n",
    "            elif sec1[row]!=\"-\" and sec2[row]==\"-\":\n",
    "                nucleotido=sec1[row].lower()\n",
    "            elif sec1[row]!= sec2[row]:\n",
    "                if (sec1[row]==\"A\" and sec2[row]== \"G\") or (sec1[row]==\"G\" and sec2[row]== \"A\"):\n",
    "                    nucleotido=\"R\"\n",
    "                elif (sec1[row]==\"C\" and sec2[row]== \"T\") or (sec1[row]==\"T\" and sec2[row]== \"C\"):\n",
    "                    nucleotido=\"Y\"\n",
    "                elif (sec1[row]==\"G\" and sec2[row]== \"C\") or (sec1[row]==\"C\" and sec2[row]== \"G\"):\n",
    "                    nucleotido=\"S\"\n",
    "                elif (sec1[row]==\"A\" and sec2[row]== \"T\") or (sec1[row]==\"T\" and sec2[row]== \"A\"):\n",
    "                    nucleotido=\"W\"\n",
    "                elif (sec1[row]==\"G\" and sec2[row]== \"T\") or (sec1[row]==\"T\" and sec2[row]== \"T\"):\n",
    "                    nucleotido=\"K\"\n",
    "                elif (sec1[row]==\"A\" and sec2[row]== \"C\") or (sec1[row]==\"C\" and sec2[row]== \"A\"):\n",
    "                    nucleotido=\"M\"\n",
    "            else:\n",
    "                print (\"hay dos errores, posición\",row ,sec1[row], sec2[row])\n",
    "                secuencia += nucleotido\n",
    "            #print ( nucleotido, end = \"\")\n",
    "            secuencia+= nucleotido\n",
    "\n",
    "        if n==93:\n",
    "            #print()\n",
    "            n=0\n",
    "    return (secuencia)"
   ]
  },
  {
   "cell_type": "code",
   "execution_count": null,
   "metadata": {},
   "outputs": [],
   "source": [
    "def graficado(x1,x2):\n",
    "    plt.figure(figsize=(16,4))\n",
    "    plt.plot(trace['DATA9'], color='blue')\n",
    "    plt.plot(trace['DATA10'], color='red')\n",
    "    plt.plot(trace['DATA11'], color='green')\n",
    "    plt.plot(trace['DATA12'], color='yellow')\n",
    "    plt.xlim(x1,x2)  # se utiliza valores de 1000 como maximo\n",
    "    plt.show()"
   ]
  },
  {
   "cell_type": "code",
   "execution_count": null,
   "metadata": {},
   "outputs": [],
   "source": [
    "def generoespecie(genesp):\n",
    "    genero=genesp[:genesp.find(\" \")]\n",
    "    print(genero)\n",
    "    especie = genesp[genesp.find(\" \")+1:]\n",
    "    especie = especie[:especie.find(\" \")]\n",
    "    print(especie)\n",
    "    genesp1 = genero+\" \"+especie\n",
    "    return(genesp1)"
   ]
  },
  {
   "cell_type": "code",
   "execution_count": null,
   "metadata": {},
   "outputs": [],
   "source": [
    "cd /Users/migueldelrio/Documents/2019Cicese/2019uam/cursosuam2019/pdi_molecular/secuencias/seq"
   ]
  },
  {
   "cell_type": "code",
   "execution_count": null,
   "metadata": {},
   "outputs": [],
   "source": [
    "ls -lh *.ab1"
   ]
  },
  {
   "cell_type": "markdown",
   "metadata": {},
   "source": [
    "# Para leer el archivo `ab1` se utiliza `SeqIO` con la opción `abi1`"
   ]
  },
  {
   "cell_type": "code",
   "execution_count": null,
   "metadata": {},
   "outputs": [],
   "source": [
    "record = SeqIO.read('P1a-16S-F.ab1', 'abi')\n",
    "record"
   ]
  },
  {
   "cell_type": "markdown",
   "metadata": {},
   "source": [
    "# El archivo `ab1` contiene la información de la secuencia y del electroferograma.\n",
    "## Graficado del electroferograma"
   ]
  },
  {
   "cell_type": "code",
   "execution_count": null,
   "metadata": {},
   "outputs": [],
   "source": [
    "record.annotations.keys()\n",
    "record.annotations['abif_raw'].keys()\n",
    "channels = ['DATA9', 'DATA10', 'DATA11', 'DATA12']\n",
    "trace = defaultdict(list)"
   ]
  },
  {
   "cell_type": "code",
   "execution_count": null,
   "metadata": {},
   "outputs": [],
   "source": [
    "for c in channels:\n",
    "    trace[c] = record.annotations['abif_raw'][c]"
   ]
  },
  {
   "cell_type": "code",
   "execution_count": null,
   "metadata": {},
   "outputs": [],
   "source": [
    "graficado (0,7000)"
   ]
  },
  {
   "cell_type": "code",
   "execution_count": null,
   "metadata": {},
   "outputs": [],
   "source": [
    "intervalos = range(1000,8000,1000)\n",
    "intervalos"
   ]
  },
  {
   "cell_type": "code",
   "execution_count": null,
   "metadata": {
    "scrolled": false
   },
   "outputs": [],
   "source": [
    "for intervalo in intervalos:\n",
    "    graficado (intervalo-1000,intervalo)"
   ]
  },
  {
   "cell_type": "markdown",
   "metadata": {},
   "source": [
    "# El archivo `ab1` también contiene información sobre la calidad de la señal en cada nucleótido, por lo que se pueden quitar regiones de baja calidad de la secuencia de interés"
   ]
  },
  {
   "cell_type": "markdown",
   "metadata": {},
   "source": [
    "# Eliminación de las regiones de baja calidad"
   ]
  },
  {
   "cell_type": "markdown",
   "metadata": {},
   "source": [
    "# Se utilizarán ambas secuencias de un fragmento de interés.\n",
    "### en este caso:\n",
    "`P1a-16S-F.ab1`  \n",
    "`P1a-16S-R.ab1`\n",
    "# Secuencias con el iniciador sentido (forward) y antisentido (reverse)"
   ]
  },
  {
   "cell_type": "code",
   "execution_count": null,
   "metadata": {},
   "outputs": [],
   "source": [
    "recordtrimmed_F = SeqIO.read('P1a-16S-F.ab1', 'abi-trim')\n",
    "recordtrimmed_R = SeqIO.read('P1a-16S-R.ab1', 'abi-trim')"
   ]
  },
  {
   "cell_type": "markdown",
   "metadata": {},
   "source": [
    "# Se alinean ambos fragmentos para corroborar la secuencia"
   ]
  },
  {
   "cell_type": "code",
   "execution_count": null,
   "metadata": {},
   "outputs": [],
   "source": [
    "alignments = pairwise2.align.globalds(recordtrimmed_F.seq,recordtrimmed_R.seq.reverse_complement(), \n",
    "                                      blosum62, -10, -0.5)"
   ]
  },
  {
   "cell_type": "markdown",
   "metadata": {},
   "source": [
    "# Se muestran los alineamientos obtenidos"
   ]
  },
  {
   "cell_type": "code",
   "execution_count": null,
   "metadata": {},
   "outputs": [],
   "source": [
    "for row in range(len(alignments)):\n",
    "    print (\"Alineamiento\", row)\n",
    "    print(pairwise2.format_alignment(*alignments[row]), \"\\n\")"
   ]
  },
  {
   "cell_type": "markdown",
   "metadata": {},
   "source": [
    "# Seleccionar el mejor alineamiento en la siguiente celda como: \n",
    "`consenso2(alignments[x][0], alignments[x][1])`  \n",
    "donde `x` es la secuencia seleccionada"
   ]
  },
  {
   "cell_type": "markdown",
   "metadata": {},
   "source": [
    "### en este caso se selecciona la # `1`"
   ]
  },
  {
   "cell_type": "code",
   "execution_count": null,
   "metadata": {},
   "outputs": [],
   "source": [
    "secuencia = consenso2(alignments[1][0], alignments[1][1])\n",
    "print(secuencia)"
   ]
  },
  {
   "cell_type": "markdown",
   "metadata": {},
   "source": [
    "# Las letras minúsculas indican que no hay nucleótidos en una de las dos secuencias\n",
    "# Se utiliza el código IUPAC para designar variantes \n",
    "\n",
    "|Letra|nucleótidos|\n",
    "|-----|-----------|\n",
    "|R|A or G|\n",
    "|Y|C or T|\n",
    "|S|G or C|\n",
    "|W|A or T|\n",
    "|K|G or T|\n",
    "|M|A or C|"
   ]
  },
  {
   "cell_type": "markdown",
   "metadata": {},
   "source": [
    "# para los siguientes pasos, es necesario guardar la secuencia.\n",
    "Explique qué es lo que hace el comando"
   ]
  },
  {
   "cell_type": "code",
   "execution_count": null,
   "metadata": {},
   "outputs": [],
   "source": []
  },
  {
   "cell_type": "code",
   "execution_count": null,
   "metadata": {},
   "outputs": [],
   "source": [
    "secuencia_fas = SeqRecord(Seq(secuencia.upper()), id=\"P1a-16S\", description=\"P1a-16S\" )"
   ]
  },
  {
   "cell_type": "markdown",
   "metadata": {},
   "source": [
    "# Recuerde que un archivo fasta contiene\n",
    "`> idendificador descriptor`  \n",
    "`secuencia`"
   ]
  },
  {
   "cell_type": "markdown",
   "metadata": {},
   "source": [
    "## Guardando la secuencia consenso con formato fasta"
   ]
  },
  {
   "cell_type": "code",
   "execution_count": null,
   "metadata": {},
   "outputs": [],
   "source": [
    "SeqIO.write(secuencia_fas, 'P1a-16S_con.fasta', 'fasta')"
   ]
  },
  {
   "cell_type": "markdown",
   "metadata": {},
   "source": [
    "# verificando contenido de `P1a-16S_con.fasta`"
   ]
  },
  {
   "cell_type": "code",
   "execution_count": null,
   "metadata": {},
   "outputs": [],
   "source": [
    "!head P1a-16S_con.fasta"
   ]
  },
  {
   "cell_type": "markdown",
   "metadata": {},
   "source": [
    "### Explique el contenido del archivo"
   ]
  },
  {
   "cell_type": "code",
   "execution_count": null,
   "metadata": {},
   "outputs": [],
   "source": []
  },
  {
   "cell_type": "code",
   "execution_count": null,
   "metadata": {},
   "outputs": [],
   "source": [
    "pwd"
   ]
  },
  {
   "cell_type": "markdown",
   "metadata": {},
   "source": [
    "## Una vez obtenida la secuencia, se procede a buscarla en la bases de datos del NCBI, se puede hacer directamente en la página de blast o por búsqueda desde el `Jupyter`\n"
   ]
  },
  {
   "cell_type": "code",
   "execution_count": null,
   "metadata": {},
   "outputs": [],
   "source": [
    "ls *.fasta"
   ]
  },
  {
   "cell_type": "markdown",
   "metadata": {},
   "source": [
    "# Para buscar la secuencia en el NCBI, se usa NCBIWWW"
   ]
  },
  {
   "cell_type": "markdown",
   "metadata": {},
   "source": [
    "### Se busca en la base de datos de nucleótidos, el formato del archivo es _fasta_ (`record.format`) y el número de secuencias que regresará es de 10 (por omisión son 50, `hitlist_size`)"
   ]
  },
  {
   "cell_type": "code",
   "execution_count": null,
   "metadata": {},
   "outputs": [],
   "source": [
    "record = SeqIO.read(\"P1a-16S_con.fasta\", format=\"fasta\")\n",
    "result_handle = NCBIWWW.qblast(\"blastn\", \"nt\", record.format(\"fasta\"), hitlist_size = 10)"
   ]
  },
  {
   "cell_type": "markdown",
   "metadata": {},
   "source": [
    "Se guarda el archivo en formato `xml` y se cierra el archivo recibido (result_handle.close())"
   ]
  },
  {
   "cell_type": "code",
   "execution_count": null,
   "metadata": {},
   "outputs": [],
   "source": [
    "with open(\"P1a.xml\", \"w\") as out_handle:\n",
    "    out_handle.write(result_handle.read())\n",
    "\n",
    "result_handle.close()"
   ]
  },
  {
   "cell_type": "code",
   "execution_count": null,
   "metadata": {},
   "outputs": [],
   "source": [
    "result_handle = open(\"P1a.xml\")\n",
    "blast_record = NCBIXML.read(result_handle)"
   ]
  },
  {
   "cell_type": "markdown",
   "metadata": {},
   "source": [
    "### Si se desea un valor de corte definido (E_VALUE_THRESH) se ejecuta la siguiente celda"
   ]
  },
  {
   "cell_type": "raw",
   "metadata": {
    "scrolled": true
   },
   "source": [
    "E_VALUE_THRESH = 0.001\n",
    "\n",
    "\n",
    "for alignment in blast_record.alignments:\n",
    "    for hsp in alignment.hsps:\n",
    "         if hsp.expect < E_VALUE_THRESH:\n",
    "            print(\"****Alignment****\")\n",
    "            print(\"sequence:\", alignment.title)\n",
    "            print(\"length:\", alignment.length)\n",
    "            print(\"e value:\", hsp.expect)\n",
    "            print(hsp.query[0:75] + \"...\")\n",
    "            print(hsp.match[0:75] + \"...\")\n",
    "            print(hsp.sbjct[0:75] + \"...\")"
   ]
  },
  {
   "cell_type": "markdown",
   "metadata": {},
   "source": [
    "# Si no se desea un valor de corte, se ejecuta la siguiente celda para observar los resultados del blast:"
   ]
  },
  {
   "cell_type": "code",
   "execution_count": null,
   "metadata": {
    "scrolled": false
   },
   "outputs": [],
   "source": [
    "for alignment in blast_record.alignments:\n",
    "    for hsp in alignment.hsps:\n",
    "        print(\"****Alignment****\")\n",
    "        print(\"sequence:\", alignment.title)\n",
    "        print(\"length:\", alignment.length)\n",
    "        print(\"e value:\", hsp.expect)\n",
    "        print(hsp.query[0:75] + \"...\")\n",
    "        print(hsp.match[0:75] + \"...\")\n",
    "        print(hsp.sbjct[0:75] + \"...\")"
   ]
  },
  {
   "cell_type": "markdown",
   "metadata": {
    "scrolled": true
   },
   "source": [
    "# Para guardar las secuencias resultantes del blast se ejecuta la siguiente celda. \n",
    "## Se almacenan las secuencias en la variable `secuencias`"
   ]
  },
  {
   "cell_type": "code",
   "execution_count": null,
   "metadata": {
    "scrolled": true
   },
   "outputs": [],
   "source": [
    "E_VALUE_THRESH = 0.001\n",
    "secuencias = []\n",
    "for alignment in blast_record.alignments:\n",
    "    for hsp in alignment.hsps:\n",
    "         if hsp.expect < E_VALUE_THRESH:\n",
    "            print(\"****Alignment****\")\n",
    "            print(\"sequence:\", alignment.title)\n",
    "            print(\"length:\", alignment.length)\n",
    "            print(\"e value:\", hsp.expect)\n",
    "            print(hsp.query[0:75] + \"...\")\n",
    "            print(hsp.match[0:75] + \"...\")\n",
    "            print(hsp.sbjct[0:75] + \"...\")\n",
    "            linea =SeqRecord(Seq(hsp.sbjct), id=alignment.accession , description=generoespecie(alignment.hit_def))\n",
    "            secuencias.append(linea)"
   ]
  },
  {
   "cell_type": "markdown",
   "metadata": {},
   "source": [
    "# Para anexar la secuencia sometida al blast se corrobora que la variable `record` tenga la información de la secuencia de interés "
   ]
  },
  {
   "cell_type": "raw",
   "metadata": {},
   "source": [
    "record = SeqIO.read(\"P1a-16S_con.fasta\", format=\"fasta\")"
   ]
  },
  {
   "cell_type": "code",
   "execution_count": null,
   "metadata": {},
   "outputs": [],
   "source": [
    "#record = SeqIO.read(\"P1a-16S_con.fasta\", format=\"fasta\")\n",
    "record"
   ]
  },
  {
   "cell_type": "markdown",
   "metadata": {},
   "source": [
    "### se agrega la secuencia de interés a la variable `secuencias`"
   ]
  },
  {
   "cell_type": "code",
   "execution_count": null,
   "metadata": {},
   "outputs": [],
   "source": [
    "secuencias.append(record)"
   ]
  },
  {
   "cell_type": "code",
   "execution_count": null,
   "metadata": {},
   "outputs": [],
   "source": [
    "SeqIO.write(secuencias, 'P1a_alineamiento.fasta', \n",
    "            'fasta')"
   ]
  },
  {
   "cell_type": "code",
   "execution_count": null,
   "metadata": {},
   "outputs": [],
   "source": [
    "import os, pylab\n",
    "from Bio.Align.Applications import ClustalwCommandline\n",
    "from Bio import pairwise2, SeqIO, AlignIO, Phylo\n"
   ]
  },
  {
   "cell_type": "markdown",
   "metadata": {},
   "source": [
    "## Alineamiento con `ClustalW` de las secuencias obtenidas con el blast y la de interés"
   ]
  },
  {
   "cell_type": "code",
   "execution_count": null,
   "metadata": {},
   "outputs": [],
   "source": [
    "clustalw_exe = r\"/Users/migueldelrio/Desktop/analisis/scripts/clustalw2\"\n",
    "clustalw_cline = ClustalwCommandline(clustalw_exe, infile=\"P1a_alineamiento.fasta\")\n",
    "assert os.path.isfile(clustalw_exe), \"Clustal W executable missing\"\n",
    "stdout, stderr = clustalw_cline()"
   ]
  },
  {
   "cell_type": "code",
   "execution_count": null,
   "metadata": {
    "scrolled": true
   },
   "outputs": [],
   "source": [
    "ls"
   ]
  },
  {
   "cell_type": "markdown",
   "metadata": {},
   "source": [
    "# Visualización de las secuencias alineadas"
   ]
  },
  {
   "cell_type": "code",
   "execution_count": null,
   "metadata": {},
   "outputs": [],
   "source": [
    "alignments = AlignIO.parse(\"P1a_alineamiento.aln\", \"clustal\")\n",
    "for alignment in alignments:\n",
    "    print(alignment)\n",
    "    print(\"\")"
   ]
  },
  {
   "cell_type": "markdown",
   "metadata": {},
   "source": [
    "# Visualización del árbol con caracteres ASCII"
   ]
  },
  {
   "cell_type": "code",
   "execution_count": null,
   "metadata": {},
   "outputs": [],
   "source": [
    "# para visualizar el árbol generado en formato ascii, se ve el contenido del archivo .dnd\n",
    "tree = Phylo.read(\"P1a_alineamiento.dnd\", \"newick\")\n",
    "Phylo.draw_ascii(tree, file=None, column_width=80)"
   ]
  },
  {
   "cell_type": "markdown",
   "metadata": {},
   "source": [
    "# Visualización del árbol dibujado"
   ]
  },
  {
   "cell_type": "code",
   "execution_count": null,
   "metadata": {},
   "outputs": [],
   "source": [
    "tree.rooted = True\n",
    "Phylo.draw(tree)"
   ]
  },
  {
   "cell_type": "code",
   "execution_count": null,
   "metadata": {},
   "outputs": [],
   "source": []
  }
 ],
 "metadata": {
  "kernelspec": {
   "display_name": "Python 3",
   "language": "python",
   "name": "python3"
  },
  "language_info": {
   "codemirror_mode": {
    "name": "ipython",
    "version": 3
   },
   "file_extension": ".py",
   "mimetype": "text/x-python",
   "name": "python",
   "nbconvert_exporter": "python",
   "pygments_lexer": "ipython3",
   "version": "3.7.1"
  }
 },
 "nbformat": 4,
 "nbformat_minor": 2
}
