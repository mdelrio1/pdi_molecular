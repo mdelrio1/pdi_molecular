{
 "cells": [
  {
   "cell_type": "markdown",
   "metadata": {},
   "source": [
    "# Analisis de archivos ab1 y obtener secuencias consenso\n",
    "información  \n",
    "https://biopython.org/wiki/SeqIO  \n",
    "http://biopython.org/wiki/ABI_traces"
   ]
  },
  {
   "cell_type": "code",
   "execution_count": null,
   "metadata": {},
   "outputs": [],
   "source": [
    "from Bio import SeqIO, SeqRecord, Seq, AlignIO, pairwise2\n",
    "from Bio.Seq import Seq\n",
    "from Bio.SeqRecord import SeqRecord\n",
    "from Bio.Alphabet import IUPAC, generic_dna\n",
    "from collections import defaultdict\n",
    "import matplotlib.pyplot as plt\n",
    "from io import StringIO\n",
    "from Bio.Align import AlignInfo\n",
    "from Bio.SubsMat.MatrixInfo import blosum62\n",
    "\n"
   ]
  },
  {
   "cell_type": "code",
   "execution_count": null,
   "metadata": {},
   "outputs": [],
   "source": [
    "def consenso2(sec1, sec2):\n",
    "    if len(sec1)!=len(sec2):\n",
    "        print(\"las secuencias no son de igual tamaño\")\n",
    "        return\n",
    "    n=0\n",
    "    secuencia= \"\"\n",
    "    nucleotido=\"\"\n",
    "    for row in range(len(sec1)):\n",
    "        n+=1\n",
    "        if sec1[row]== sec2[row]:\n",
    "            secuencia+= sec1[row]\n",
    "            #print (sec1[row], end = \"\")\n",
    "        else:\n",
    "            if sec1[row]==\"-\" and sec2[row]!=\"-\":\n",
    "                nucleotido=sec2[row].lower()\n",
    "            elif sec1[row]!=\"-\" and sec2[row]==\"-\":\n",
    "                nucleotido=sec1[row].lower()\n",
    "            elif sec1[row]!= sec2[row]:\n",
    "                if (sec1[row]==\"A\" and sec2[row]== \"G\") or (sec1[row]==\"G\" and sec2[row]== \"A\"):\n",
    "                    nucleotido=\"R\"\n",
    "                elif (sec1[row]==\"C\" and sec2[row]== \"T\") or (sec1[row]==\"T\" and sec2[row]== \"C\"):\n",
    "                    nucleotido=\"Y\"\n",
    "                elif (sec1[row]==\"G\" and sec2[row]== \"C\") or (sec1[row]==\"C\" and sec2[row]== \"G\"):\n",
    "                    nucleotido=\"S\"\n",
    "                elif (sec1[row]==\"A\" and sec2[row]== \"T\") or (sec1[row]==\"T\" and sec2[row]== \"A\"):\n",
    "                    nucleotido=\"W\"\n",
    "                elif (sec1[row]==\"G\" and sec2[row]== \"T\") or (sec1[row]==\"T\" and sec2[row]== \"T\"):\n",
    "                    nucleotido=\"K\"\n",
    "                elif (sec1[row]==\"A\" and sec2[row]== \"C\") or (sec1[row]==\"C\" and sec2[row]== \"A\"):\n",
    "                    nucleotido=\"M\"\n",
    "            else:\n",
    "                print (\"hay dos errores, posición\",row ,sec1[row], sec2[row])\n",
    "                secuencia += nucleotido\n",
    "            #print ( nucleotido, end = \"\")\n",
    "            secuencia+= nucleotido\n",
    "\n",
    "        if n==93:\n",
    "            #print()\n",
    "            n=0\n",
    "    return (secuencia)"
   ]
  },
  {
   "cell_type": "code",
   "execution_count": null,
   "metadata": {},
   "outputs": [],
   "source": [
    "def graficado(x1,x2):\n",
    "    plt.figure(figsize=(16,4))\n",
    "    plt.plot(trace['DATA9'], color='blue')\n",
    "    plt.plot(trace['DATA10'], color='red')\n",
    "    plt.plot(trace['DATA11'], color='green')\n",
    "    plt.plot(trace['DATA12'], color='yellow')\n",
    "    plt.xlim(x1,x2)  # se utiliza valores de 1000 como maximo\n",
    "    plt.show()"
   ]
  },
  {
   "cell_type": "code",
   "execution_count": null,
   "metadata": {},
   "outputs": [],
   "source": [
    "cd /Users/migueldelrio/Documents/2019Cicese/2019uam/cursosuam2019/pdi_molecular/secuencias/seq"
   ]
  },
  {
   "cell_type": "code",
   "execution_count": null,
   "metadata": {},
   "outputs": [],
   "source": [
    "ls -lh *.ab1"
   ]
  },
  {
   "cell_type": "markdown",
   "metadata": {},
   "source": [
    "# Se trabajará con las secuencias\n",
    "`P1a-16S-F.ab1`  \n",
    "`P1a-16S-R.ab1`\n",
    "# Secuencias con el iniciador sentido (forward)"
   ]
  },
  {
   "cell_type": "code",
   "execution_count": null,
   "metadata": {},
   "outputs": [],
   "source": [
    "recordtrimmed_F = SeqIO.read('P1a-16S-F.ab1', 'abi-trim')\n",
    "recordtrimmed_R = SeqIO.read('P1a-16S-R.ab1', 'abi-trim')"
   ]
  },
  {
   "cell_type": "code",
   "execution_count": null,
   "metadata": {},
   "outputs": [],
   "source": [
    "alignments = pairwise2.align.globalds(recordtrimmed_F.seq,recordtrimmed_R.seq.reverse_complement(), \n",
    "                                      blosum62, -10, -0.5)"
   ]
  },
  {
   "cell_type": "code",
   "execution_count": null,
   "metadata": {},
   "outputs": [],
   "source": [
    "for row in range(len(alignments)):\n",
    "    print (\"Alineamiento\", row)\n",
    "    print(pairwise2.format_alignment(*alignments[row]), \"\\n\")"
   ]
  },
  {
   "cell_type": "markdown",
   "metadata": {},
   "source": [
    "# Seleccionar alineamiento en \n",
    "`consenso2(alignments[x][0], alignments[x][1])`  \n",
    "donde `x` es la secuencia seleccionada"
   ]
  },
  {
   "cell_type": "code",
   "execution_count": null,
   "metadata": {},
   "outputs": [],
   "source": [
    "secuencia = consenso2(alignments[1][0], alignments[1][1])\n",
    "print(secuencia)"
   ]
  },
  {
   "cell_type": "markdown",
   "metadata": {},
   "source": [
    "# Las letras minúsculas indican que no hay nucleótidos en una de las dos secuencias\n",
    "# Se utiliza el código IUPAC para designar variantes \n",
    "\n",
    "|Letra|nucleótidos|\n",
    "|-----|-----------|\n",
    "|R|A or G|\n",
    "|Y|C or T|\n",
    "|S|G or C|\n",
    "|W|A or T|\n",
    "|K|G or T|\n",
    "|M|A or C|"
   ]
  },
  {
   "cell_type": "code",
   "execution_count": null,
   "metadata": {},
   "outputs": [],
   "source": [
    "secuencia_fas = SeqRecord(Seq(secuencia.upper()), id=\"P1a-16S\", description=\"P1a-16S\" )"
   ]
  },
  {
   "cell_type": "markdown",
   "metadata": {},
   "source": [
    "## Guardando la secuencia consenso"
   ]
  },
  {
   "cell_type": "code",
   "execution_count": null,
   "metadata": {},
   "outputs": [],
   "source": [
    "SeqIO.write(secuencia_fas, 'P1a-16S_con.fasta', 'fasta')"
   ]
  },
  {
   "cell_type": "code",
   "execution_count": null,
   "metadata": {},
   "outputs": [],
   "source": [
    "pwd"
   ]
  },
  {
   "cell_type": "code",
   "execution_count": null,
   "metadata": {},
   "outputs": [],
   "source": [
    "%%bash\n",
    "export BLASTDB=/Volumes/Respaldo_completo/Escritorio/bigdata/nt/\n",
    "cd ~/Documents/2019Cicese/2019uam/cursosuam2019/pdi_molecular/secuencias/seq\n",
    "date\n",
    "time blastn \\\n",
    "-query P1a-16S_con.fasta \\\n",
    "-db /Volumes/Respaldo_completo/Escritorio/bigdata/nt/nt \\\n",
    "-out P1a-16S_con.tab \\\n",
    "-evalue 1E-6 \\\n",
    "-max_target_seqs 1 \\\n",
    "-num_threads 1 \\\n",
    "-outfmt \"6 std sskingdoms stitle staxids sscinames scomnames sblastnames\" \n",
    "\n"
   ]
  },
  {
   "cell_type": "code",
   "execution_count": null,
   "metadata": {},
   "outputs": [],
   "source": []
  }
 ],
 "metadata": {
  "kernelspec": {
   "display_name": "Python 3",
   "language": "python",
   "name": "python3"
  },
  "language_info": {
   "codemirror_mode": {
    "name": "ipython",
    "version": 3
   },
   "file_extension": ".py",
   "mimetype": "text/x-python",
   "name": "python",
   "nbconvert_exporter": "python",
   "pygments_lexer": "ipython3",
   "version": "3.7.1"
  }
 },
 "nbformat": 4,
 "nbformat_minor": 2
}
