{
 "cells": [
  {
   "cell_type": "markdown",
   "metadata": {},
   "source": [
    "# Bitácora de ejercicio con comandos de terminal"
   ]
  },
  {
   "cell_type": "markdown",
   "metadata": {},
   "source": [
    "Listado de archivos en el directorio actual."
   ]
  },
  {
   "cell_type": "code",
   "execution_count": 2,
   "metadata": {},
   "outputs": [
    {
     "name": "stdout",
     "output_type": "stream",
     "text": [
      "\u001b[31m01_lenguajes.ipynb\u001b[m\u001b[m*\r\n",
      "\u001b[31m02_markdown.ipynb\u001b[m\u001b[m*\r\n",
      "\u001b[31m03_ejercicio_terminal.ipynb\u001b[m\u001b[m*\r\n",
      "\u001b[31m04_1_ejercicio_terminal_resultados.ipynb\u001b[m\u001b[m*\r\n",
      "analisis_ab1.ipynb\r\n"
     ]
    }
   ],
   "source": [
    "ls"
   ]
  },
  {
   "cell_type": "code",
   "execution_count": 4,
   "metadata": {},
   "outputs": [
    {
     "name": "stdout",
     "output_type": "stream",
     "text": [
      "\u001b[31m01_lenguajes.ipynb\u001b[m\u001b[m\r\n",
      "\u001b[31m02_markdown.ipynb\u001b[m\u001b[m\r\n",
      "\u001b[31m03_ejercicio_terminal.ipynb\u001b[m\u001b[m\r\n",
      "\u001b[31m04_1_ejercicio_terminal_resultados.ipynb\u001b[m\u001b[m\r\n",
      "analisis_ab1.ipynb\r\n"
     ]
    }
   ],
   "source": [
    "#invoca el emulador de linux\n",
    "!ls "
   ]
  },
  {
   "cell_type": "code",
   "execution_count": 6,
   "metadata": {},
   "outputs": [
    {
     "data": {
      "text/plain": [
       "'/Users/migueldelrio/Desktop/analisis/jupyter/pdi_molecular'"
      ]
     },
     "execution_count": 6,
     "metadata": {},
     "output_type": "execute_result"
    }
   ],
   "source": [
    "pwd #herramienta de ubicación"
   ]
  },
  {
   "cell_type": "code",
   "execution_count": 4,
   "metadata": {},
   "outputs": [
    {
     "name": "stdout",
     "output_type": "stream",
     "text": [
      "Hola mundo\n"
     ]
    }
   ],
   "source": [
    "print(\"Hola mundo\")"
   ]
  },
  {
   "cell_type": "markdown",
   "metadata": {},
   "source": [
    "### para detectar en que directorio nos encontramos se utiliza el comando: "
   ]
  },
  {
   "cell_type": "code",
   "execution_count": 5,
   "metadata": {},
   "outputs": [
    {
     "data": {
      "text/plain": [
       "'C:\\\\Users\\\\SalaD26\\\\Desktop\\\\jupyter'"
      ]
     },
     "execution_count": 5,
     "metadata": {},
     "output_type": "execute_result"
    }
   ],
   "source": [
    "pwd\n"
   ]
  },
  {
   "cell_type": "markdown",
   "metadata": {},
   "source": [
    "para cambiar de direcrorio se usa el comando `cd`\n",
    "para cambiar a ~/Desktop/bioinformatica2019/data/\n",
    "se usa `cd ~/Desktop/bioinformatica2019/data/`"
   ]
  },
  {
   "cell_type": "code",
   "execution_count": 6,
   "metadata": {},
   "outputs": [
    {
     "name": "stdout",
     "output_type": "stream",
     "text": [
      "C:\\Users\\SalaD26\\Desktop\\bioinformatica2019\\data\n"
     ]
    }
   ],
   "source": [
    "cd ~/Desktop/bioinformatica2019/data/"
   ]
  },
  {
   "cell_type": "markdown",
   "metadata": {},
   "source": [
    "### para desplegar los archivos en el directorio"
   ]
  },
  {
   "cell_type": "code",
   "execution_count": 7,
   "metadata": {
    "scrolled": true
   },
   "outputs": [
    {
     "name": "stdout",
     "output_type": "stream",
     "text": [
      " El volumen de la unidad C no tiene etiqueta.\n",
      " El n£mero de serie del volumen es: 4C69-5113\n",
      "\n",
      " Directorio de C:\\Users\\SalaD26\\Desktop\\bioinformatica2019\\data\n",
      "\n",
      "15/01/2019  11:15 a. m.    <DIR>          .\n",
      "15/01/2019  11:15 a. m.    <DIR>          ..\n",
      "               0 archivos              0 bytes\n",
      "               2 dirs  159,999,434,752 bytes libres\n"
     ]
    }
   ],
   "source": [
    "ls"
   ]
  },
  {
   "cell_type": "code",
   "execution_count": 8,
   "metadata": {},
   "outputs": [
    {
     "name": "stdout",
     "output_type": "stream",
     "text": [
      "C:\\Users\\SalaD26\\Desktop\\data\n"
     ]
    }
   ],
   "source": [
    "cd C:/Users/SalaD26/Desktop/data/\n"
   ]
  },
  {
   "cell_type": "code",
   "execution_count": 9,
   "metadata": {
    "scrolled": true
   },
   "outputs": [
    {
     "name": "stdout",
     "output_type": "stream",
     "text": [
      " El volumen de la unidad C no tiene etiqueta.\n",
      " El n£mero de serie del volumen es: 4C69-5113\n",
      "\n",
      " Directorio de C:\\Users\\SalaD26\\Desktop\\data\n",
      "\n"
     ]
    },
    {
     "name": "stderr",
     "output_type": "stream",
     "text": [
      "No se encuentra el archivo\n"
     ]
    }
   ],
   "source": [
    "ls -lh"
   ]
  },
  {
   "cell_type": "markdown",
   "metadata": {},
   "source": [
    "siempre que se utilice el comando ls con otros modificadores, para evitar el error se utiliza el signo de admiracion"
   ]
  },
  {
   "cell_type": "code",
   "execution_count": 7,
   "metadata": {},
   "outputs": [
    {
     "name": "stdout",
     "output_type": "stream",
     "text": [
      "total 144\r\n",
      "-rwxrwxrwx@ 1 migueldelrio  staff    14K May 17 11:51 \u001b[31m01_lenguajes.ipynb\u001b[m\u001b[m\r\n",
      "-rwxrwxrwx@ 1 migueldelrio  staff   8.6K May 17 11:53 \u001b[31m02_markdown.ipynb\u001b[m\u001b[m\r\n",
      "-rwxrwxrwx@ 1 migueldelrio  staff    14K Jan 16 14:33 \u001b[31m03_ejercicio_terminal.ipynb\u001b[m\u001b[m\r\n",
      "-rwxrwxrwx@ 1 migueldelrio  staff    12K Jan 16 13:51 \u001b[31m04_1_ejercicio_terminal_resultados.ipynb\u001b[m\u001b[m\r\n",
      "-rw-r--r--  1 migueldelrio  staff    13K May 27 22:02 analisis_ab1.ipynb\r\n"
     ]
    }
   ],
   "source": [
    "!ls -lh #lo ejecutara desde el emulador de linux"
   ]
  },
  {
   "cell_type": "code",
   "execution_count": 2,
   "metadata": {},
   "outputs": [
    {
     "name": "stdout",
     "output_type": "stream",
     "text": [
      "\u001b[31m01_lenguajes.ipynb\u001b[m\u001b[m*\r\n",
      "\u001b[31m02_markdown.ipynb\u001b[m\u001b[m*\r\n",
      "\u001b[31m03_ejercicio_terminal.ipynb\u001b[m\u001b[m*\r\n",
      "\u001b[31m04_1_ejercicio_terminal_resultados.ipynb\u001b[m\u001b[m*\r\n",
      "analisis_ab1.ipynb\r\n"
     ]
    }
   ],
   "source": [
    "ls\n"
   ]
  },
  {
   "cell_type": "code",
   "execution_count": 3,
   "metadata": {},
   "outputs": [],
   "source": [
    "import os"
   ]
  },
  {
   "cell_type": "code",
   "execution_count": 4,
   "metadata": {},
   "outputs": [
    {
     "name": "stdout",
     "output_type": "stream",
     "text": [
      "Captura de Pantalla 2019-05-14 a la(s) 13.26.39.png\r\n",
      "Captura de Pantalla 2019-05-14 a la(s) 14.45.41.png\r\n",
      "Captura de Pantalla 2019-05-21 a la(s) 16.35.45.png\r\n",
      "Captura de Pantalla 2019-05-21 a la(s) 16.37.00.png\r\n",
      "Captura de pantalla 2018-10-04 a la(s) 13.05.47.png\r\n",
      "Captura de pantalla 2019-02-14 a la(s) 15.34.44.png\r\n",
      "Captura de pantalla 2019-02-14 a la(s) 15.34.52.png\r\n",
      "Captura de pantalla 2019-02-14 a la(s) 15.34.57.png\r\n",
      "Captura de pantalla 2019-02-14 a la(s) 15.35.48.png\r\n",
      "Captura de pantalla 2019-02-14 a la(s) 15.35.49.png\r\n",
      "Captura de pantalla 2019-02-14 a la(s) 15.35.50.png\r\n",
      "Captura de pantalla 2019-02-14 a la(s) 15.35.52.png\r\n",
      "Captura de pantalla 2019-02-14 a la(s) 15.35.53.png\r\n",
      "Captura de pantalla 2019-02-14 a la(s) 15.35.56.png\r\n",
      "Captura de pantalla 2019-02-14 a la(s) 15.35.59.png\r\n",
      "Captura de pantalla 2019-03-25 a la(s) 9.45.50.png\r\n",
      "Resumenpagos_Dr_delRio.png\r\n",
      "\u001b[30m\u001b[43manalisis\u001b[m\u001b[m/\r\n",
      "\u001b[34mbigdata\u001b[m\u001b[m/\r\n",
      "\u001b[30m\u001b[43mbioinformatica2019\u001b[m\u001b[m/\r\n",
      "\u001b[34mbioinformatica_anotacion2019\u001b[m\u001b[m/\r\n",
      "\u001b[34mbioinformatica_aplicada\u001b[m\u001b[m/\r\n",
      "cicese.pem\r\n",
      "cicese.pem.txt\r\n",
      "cpuinfo.txt\r\n",
      "\u001b[34mcurso\u001b[m\u001b[m/\r\n",
      "\u001b[34mdata\u001b[m\u001b[m/\r\n",
      "\u001b[34mirene\u001b[m\u001b[m/\r\n",
      "\u001b[34mixachi\u001b[m\u001b[m/\r\n",
      "\u001b[34mkey\u001b[m\u001b[m/\r\n",
      "\u001b[34mmdelrio\u001b[m\u001b[m/\r\n",
      "\u001b[34mmdelrio1github\u001b[m\u001b[m/\r\n",
      "\u001b[34mmemorias\u001b[m\u001b[m/\r\n",
      "\u001b[30m\u001b[43momica\u001b[m\u001b[m/\r\n",
      "\u001b[34mpanopea\u001b[m\u001b[m/\r\n",
      "\u001b[34mtaller_irapuato\u001b[m\u001b[m/\r\n",
      "\u001b[34mtotoaba\u001b[m\u001b[m/\r\n"
     ]
    }
   ],
   "source": [
    "ls ~/Desktop"
   ]
  },
  {
   "cell_type": "markdown",
   "metadata": {},
   "source": [
    "## Crear un directorio en el \"escritorio\" (Desktop), si existe, no hace nada"
   ]
  },
  {
   "cell_type": "code",
   "execution_count": 5,
   "metadata": {},
   "outputs": [],
   "source": [
    "# crear un directorio si no existe\n",
    "os.makedirs('~/Desktop/data',exist_ok=True)"
   ]
  },
  {
   "cell_type": "markdown",
   "metadata": {},
   "source": [
    "## Para cambiar al directorio `~/Desktop/data`"
   ]
  },
  {
   "cell_type": "code",
   "execution_count": 6,
   "metadata": {},
   "outputs": [
    {
     "name": "stdout",
     "output_type": "stream",
     "text": [
      "/Users/migueldelrio/Desktop/data\n"
     ]
    }
   ],
   "source": [
    "cd ~/Desktop/data"
   ]
  },
  {
   "cell_type": "code",
   "execution_count": 9,
   "metadata": {},
   "outputs": [
    {
     "name": "stdout",
     "output_type": "stream",
     "text": [
      "ls: pdi*: No such file or directory\r\n"
     ]
    }
   ],
   "source": [
    "ls pdi*"
   ]
  },
  {
   "cell_type": "code",
   "execution_count": 10,
   "metadata": {},
   "outputs": [],
   "source": [
    "# crear el directorio pdi_molecular si no existe\n",
    "os.makedirs('./pdi_molecular',exist_ok=True)"
   ]
  },
  {
   "cell_type": "code",
   "execution_count": 16,
   "metadata": {},
   "outputs": [
    {
     "name": "stdout",
     "output_type": "stream",
     "text": [
      "/Users/migueldelrio/Desktop/data/pdi_molecular\n"
     ]
    }
   ],
   "source": [
    "cd pdi_molecular/"
   ]
  },
  {
   "cell_type": "markdown",
   "metadata": {},
   "source": [
    "Para conocer mas detalles de los archivos o derectorios presentes se usa el comando  \n",
    "`ls -lh`"
   ]
  },
  {
   "cell_type": "markdown",
   "metadata": {},
   "source": [
    "## para regresar un directorio arriba se usa  \n",
    "`cd ..`"
   ]
  },
  {
   "cell_type": "code",
   "execution_count": 17,
   "metadata": {},
   "outputs": [
    {
     "name": "stdout",
     "output_type": "stream",
     "text": [
      "/Users/migueldelrio/Desktop/data\n"
     ]
    }
   ],
   "source": [
    "cd .."
   ]
  },
  {
   "cell_type": "code",
   "execution_count": null,
   "metadata": {
    "scrolled": false
   },
   "outputs": [],
   "source": [
    "ls -lh"
   ]
  },
  {
   "cell_type": "code",
   "execution_count": null,
   "metadata": {},
   "outputs": [],
   "source": []
  },
  {
   "cell_type": "code",
   "execution_count": null,
   "metadata": {},
   "outputs": [],
   "source": []
  },
  {
   "cell_type": "code",
   "execution_count": null,
   "metadata": {},
   "outputs": [],
   "source": []
  },
  {
   "cell_type": "code",
   "execution_count": null,
   "metadata": {},
   "outputs": [],
   "source": []
  },
  {
   "cell_type": "code",
   "execution_count": 13,
   "metadata": {},
   "outputs": [
    {
     "name": "stdout",
     "output_type": "stream",
     "text": [
      "total 24K\n",
      "drwxr-xr-x 1 SalaD26 197121 0 ene. 15 17:07 ab1\n",
      "drwxr-xr-x 1 SalaD26 197121 0 ene. 15 08:58 ab2\n",
      "drwxr-xr-x 1 SalaD26 197121 0 ene. 16 09:24 fasta\n",
      "drwxr-xr-x 1 SalaD26 197121 0 ene. 15 08:58 morfo\n"
     ]
    }
   ],
   "source": [
    "!ls -lh"
   ]
  },
  {
   "cell_type": "code",
   "execution_count": 14,
   "metadata": {},
   "outputs": [
    {
     "name": "stdout",
     "output_type": "stream",
     "text": [
      "C:\\Users\\SalaD26\\Desktop\\data\\morfo\n"
     ]
    }
   ],
   "source": [
    "cd morfo"
   ]
  },
  {
   "cell_type": "code",
   "execution_count": 16,
   "metadata": {},
   "outputs": [
    {
     "ename": "SyntaxError",
     "evalue": "invalid syntax (<ipython-input-16-9eb030a7ffd4>, line 1)",
     "output_type": "error",
     "traceback": [
      "\u001b[1;36m  File \u001b[1;32m\"<ipython-input-16-9eb030a7ffd4>\"\u001b[1;36m, line \u001b[1;32m1\u001b[0m\n\u001b[1;33m    head 7sppMorfo_largototal.csv #el comando de head es un comando de linux, por lo tanto es necesario el signo de admiración.\u001b[0m\n\u001b[1;37m         ^\u001b[0m\n\u001b[1;31mSyntaxError\u001b[0m\u001b[1;31m:\u001b[0m invalid syntax\n"
     ]
    }
   ],
   "source": [
    "head 7sppMorfo_largototal.csv #el comando de head es un comando de linux, por lo tanto es necesario el signo de admiración."
   ]
  },
  {
   "cell_type": "code",
   "execution_count": 19,
   "metadata": {},
   "outputs": [
    {
     "name": "stdout",
     "output_type": "stream",
     "text": [
      "especie,org,long_total\n",
      "especie1,1,100\n",
      "especie1,2,89\n",
      "especie1,3,114\n",
      "especie1,4,88\n",
      "especie1,5,124\n",
      "especie1,12,101\n",
      "especie1,13,100\n",
      "especie1,6,113\n",
      "especie1,7,109\n"
     ]
    }
   ],
   "source": [
    "!head  7sppMorfo_largototal.csv"
   ]
  },
  {
   "cell_type": "code",
   "execution_count": 20,
   "metadata": {},
   "outputs": [
    {
     "name": "stdout",
     "output_type": "stream",
     "text": [
      "especie,org,long_total,long_estandar,long_cefalica,diam_ojo,long_hocico,long_mandibular,long_postorbital,long_pedunculo_caudal,Long_base_aleta_anal,dist_hocico_1a_aleta_dorsal,dist_hocico_2a_aleta_dorsal,dist_hocico_aleta_pelvica,long_base_aleta_pelvica,alt_mÃ¡xima_cuerpo,alt_min_pedunculo_caudal,alt_aleta_anal,alt_aleta_pectoral,alt_1a_aleta_dorsal,alt_2a_aleta_dorsal\n",
      "especie1,1,100,86,22,6,8,9,9,19,18,44,56,36,3,17,7,14,16,8,13\n",
      "especie1,2,89,74,19,6,6,8,8,18,14,39,48,31,2,13,6,12,14,7,11\n",
      "especie1,3,114,95,24,7,9,11,11,20,21,49,61,40,6,20,8,15,18,7,16\n",
      "especie1,4,88,74,19,5,6,8,8,17,15,39,48,31,2,14,6,12,14,7,11\n",
      "especie1,5,124,103,30,8,11,14,14,22,21,57,73,45,3,19,10,19,19,10,16\n",
      "especie1,12,101,84,23,6,8,10,10,17,17,46,57,39,5,17,8,15,17,8,13\n",
      "especie1,13,100,86,23,6,8,10,9,19,18,47,57,38,5,18,9,16,20,8,13\n",
      "especie1,6,113,93,26,7,9,12,12,19,19,52,60,42,3,18,10,17,18,8,16\n",
      "especie1,7,109,93,25,7,8,10,10,20,19,48,60,37,5,16,8,15,16,8,13\n"
     ]
    }
   ],
   "source": [
    "!head -10 7sppMorfo.csv"
   ]
  },
  {
   "cell_type": "code",
   "execution_count": 21,
   "metadata": {},
   "outputs": [
    {
     "name": "stdout",
     "output_type": "stream",
     "text": [
      "especie,org,long_total,long_estandar,long_cefalica,diam_ojo,long_hocico,long_mandibular,long_postorbital,long_pedunculo_caudal,Long_base_aleta_anal,dist_hocico_1a_aleta_dorsal,dist_hocico_2a_aleta_dorsal,dist_hocico_aleta_pelvica,long_base_aleta_pelvica,alt_mÃ¡xima_cuerpo,alt_min_pedunculo_caudal,alt_aleta_anal,alt_aleta_pectoral,alt_1a_aleta_dorsal,alt_2a_aleta_dorsal\n",
      "especie1,1,100,86,22,6,8,9,9,19,18,44,56,36,3,17,7,14,16,8,13\n"
     ]
    }
   ],
   "source": [
    "!head -2 7sppMorfo.csv"
   ]
  },
  {
   "cell_type": "code",
   "execution_count": 22,
   "metadata": {},
   "outputs": [
    {
     "name": "stdout",
     "output_type": "stream",
     "text": [
      "especie7,91,80,66,17,5,5,7,7,14,17,33,42,28,4,12,5,12,13,6,12\n",
      "especie7,92,97,82,21,6,6,9,9,18,17,42,51,35,4,13,6,14,15,7,12\n",
      "especie7,93,83,69,17,5,5,7,7,14,18,36,44,30,4,12,6,12,13,7,10\n",
      "especie7,94,90,74,18,5,5,8,7,16,18,40,50,33,4,14,6,13,13,7,11\n",
      "especie7,95,98,82,20,6,6,9,9,17,18,41,53,36,4,14,7,12,12,7,12\n",
      "especie7,96,86,72,18,6,5,8,7,15,16,35,46,31,4,13,6,13,13,7,12\n",
      "especie7,97,90,75,18,5,6,8,7,17,17,37,50,32,4,13,6,12,13,7,12\n",
      "especie7,98,84,70,16,5,5,6,7,16,15,39,45,30,4,12,5,11,11,6,11\n",
      "especie7,99,84,70,18,5,5,7,7,15,16,39,45,29,4,9,6,11,14,7,11\n",
      "especie7,100,95,80,19,6,6,9,9,18,17,39,50,35,4,13,7,13,14,7,12\n"
     ]
    }
   ],
   "source": [
    "!tail 7sppMorfo.csv"
   ]
  },
  {
   "cell_type": "code",
   "execution_count": 23,
   "metadata": {},
   "outputs": [
    {
     "name": "stdout",
     "output_type": "stream",
     "text": [
      "especie7,91,80,66,17,5,5,7,7,14,17,33,42,28,4,12,5,12,13,6,12\n",
      "especie7,92,97,82,21,6,6,9,9,18,17,42,51,35,4,13,6,14,15,7,12\n",
      "especie7,93,83,69,17,5,5,7,7,14,18,36,44,30,4,12,6,12,13,7,10\n",
      "especie7,94,90,74,18,5,5,8,7,16,18,40,50,33,4,14,6,13,13,7,11\n",
      "especie7,95,98,82,20,6,6,9,9,17,18,41,53,36,4,14,7,12,12,7,12\n",
      "especie7,96,86,72,18,6,5,8,7,15,16,35,46,31,4,13,6,13,13,7,12\n",
      "especie7,97,90,75,18,5,6,8,7,17,17,37,50,32,4,13,6,12,13,7,12\n",
      "especie7,98,84,70,16,5,5,6,7,16,15,39,45,30,4,12,5,11,11,6,11\n",
      "especie7,99,84,70,18,5,5,7,7,15,16,39,45,29,4,9,6,11,14,7,11\n",
      "especie7,100,95,80,19,6,6,9,9,18,17,39,50,35,4,13,7,13,14,7,12\n"
     ]
    }
   ],
   "source": [
    "!tail -10 7sppMorfo.csv"
   ]
  },
  {
   "cell_type": "code",
   "execution_count": 24,
   "metadata": {},
   "outputs": [
    {
     "name": "stdout",
     "output_type": "stream",
     "text": [
      "especie7,99,84,70,18,5,5,7,7,15,16,39,45,29,4,9,6,11,14,7,11\n",
      "especie7,100,95,80,19,6,6,9,9,18,17,39,50,35,4,13,7,13,14,7,12\n"
     ]
    }
   ],
   "source": [
    "!tail -2 7sppMorfo.csv\n"
   ]
  },
  {
   "cell_type": "code",
   "execution_count": null,
   "metadata": {},
   "outputs": [],
   "source": []
  }
 ],
 "metadata": {
  "kernelspec": {
   "display_name": "Python 3",
   "language": "python",
   "name": "python3"
  },
  "language_info": {
   "codemirror_mode": {
    "name": "ipython",
    "version": 3
   },
   "file_extension": ".py",
   "mimetype": "text/x-python",
   "name": "python",
   "nbconvert_exporter": "python",
   "pygments_lexer": "ipython3",
   "version": "3.7.1"
  }
 },
 "nbformat": 4,
 "nbformat_minor": 2
}
